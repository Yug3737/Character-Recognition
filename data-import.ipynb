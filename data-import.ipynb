{
  "nbformat": 4,
  "nbformat_minor": 0,
  "metadata": {
    "colab": {
      "provenance": [],
      "include_colab_link": true
    },
    "kernelspec": {
      "name": "python3",
      "display_name": "Python 3"
    },
    "language_info": {
      "name": "python"
    }
  },
  "cells": [
    {
      "cell_type": "markdown",
      "metadata": {
        "id": "view-in-github",
        "colab_type": "text"
      },
      "source": [
        "<a href=\"https://colab.research.google.com/github/Yug3737/Character-Recognition/blob/main/data-import.ipynb\" target=\"_parent\"><img src=\"https://colab.research.google.com/assets/colab-badge.svg\" alt=\"Open In Colab\"/></a>"
      ]
    },
    {
      "cell_type": "code",
      "execution_count": null,
      "metadata": {
        "id": "ebLg9n67eZpy"
      },
      "outputs": [],
      "source": [
        "from keras.datasets import mnist\n",
        "import numpy as np\n",
        "from PIL import Image\n",
        "\n",
        "(train_x, train_y), (test_x, test_y) = mnist.load_data()\n",
        "\n",
        "print(\"train_x \" + str(train_x.shape))\n",
        "print(\"train_y \" + str(train_y.shape))\n",
        "print(\"test_x \" + str(test_x.shape))\n",
        "print(\"test_y \" + str(test_y.shape))\n",
        "\n",
        "print(type(train_y))\n",
        "\n",
        "for i in range(10):\n",
        "    print(train_y[i])\n",
        "\n",
        "for j in range(10):\n",
        "    matrix = train_x[j]\n",
        "    img = Image.fromarray(matrix)\n",
        "    img.save(f\"image{j}.png\")\n"
      ]
    }
  ]
}